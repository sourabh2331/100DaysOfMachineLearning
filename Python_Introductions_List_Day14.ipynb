{
 "cells": [
  {
   "cell_type": "markdown",
   "metadata": {},
   "source": [
    "# Python - Containers { List, Dict, Tuples and Sets)"
   ]
  },
  {
   "cell_type": "markdown",
   "metadata": {},
   "source": [
    "Yesterday, I have posted about basics of Python.Today, We will discuss about the containers available in Python.So, Wha are \n",
    "containers ? A container is a method to hold/bound different types of data together."
   ]
  },
  {
   "cell_type": "markdown",
   "metadata": {},
   "source": [
    "# List - First Container"
   ]
  },
  {
   "cell_type": "markdown",
   "metadata": {},
   "source": [
    "We will start with some activities with List :"
   ]
  },
  {
   "cell_type": "code",
   "execution_count": 5,
   "metadata": {},
   "outputs": [
    {
     "name": "stdout",
     "output_type": "stream",
     "text": [
      "1\n",
      "<class 'int'> \n",
      "\n",
      "True\n",
      "<class 'float'>\n"
     ]
    }
   ],
   "source": [
    "#Create a list1 and list2 with Homogeneous and Hetrogeneous values\n",
    "list1 = [1,2,3,4,5]    # List of Intezers \n",
    "\n",
    "print(list1[0])      # Indexing in list\n",
    "print(type(list1[0]),\"\\n\")\n",
    "\n",
    "list2 = [\"Eggs\",2,True,4.0]    # List with Hetrogeneous values \n",
    "\n",
    "print(list2[2])    # Indexing in list\n",
    "print(type(list2[3]))   # It also hold the actual type of value in list "
   ]
  },
  {
   "cell_type": "code",
   "execution_count": 7,
   "metadata": {},
   "outputs": [
    {
     "name": "stdout",
     "output_type": "stream",
     "text": [
      "[2, 3, 4, 5]\n",
      "[3, 4]\n",
      "['Eggs', 2, True]\n"
     ]
    }
   ],
   "source": [
    "#Slicing with List\n",
    "\n",
    "print(list1[1:])   # It will print all the elements starting from 1 to last item.\n",
    "\n",
    "print(list1[2:4])  # It will print elements from 2nd to 3rd.\n",
    "\n",
    "print(list2[:3])  # It will print all the elements from start till 2nd  "
   ]
  },
  {
   "cell_type": "code",
   "execution_count": 11,
   "metadata": {},
   "outputs": [
    {
     "name": "stdout",
     "output_type": "stream",
     "text": [
      "[1, 2, 3, 4, 5, 6, 6, [6]]\n",
      "['Eggs', 2, True, 4.0, 'Milk', 'Milk']\n"
     ]
    }
   ],
   "source": [
    "#Appending a element to the list\n",
    "\n",
    "list1.append(6)    #Appending 6 to the list1\n",
    "\n",
    "print(list1)\n",
    "\n",
    "list2.append(\"Milk\")  #Appending \"Milk\" to the list2\n",
    "print(list2)"
   ]
  },
  {
   "cell_type": "code",
   "execution_count": 12,
   "metadata": {},
   "outputs": [
    {
     "name": "stdout",
     "output_type": "stream",
     "text": [
      "[1, 2, 3, 4, 5, 6]\n"
     ]
    }
   ],
   "source": [
    "# Extend Command to add/concatenate two list\n",
    "\n",
    "list4 = [1,2,3]\n",
    "list3 = [4,5,6]\n",
    "\n",
    "list4.extend(list3)\n",
    "\n",
    "print(list4)"
   ]
  },
  {
   "cell_type": "code",
   "execution_count": 15,
   "metadata": {},
   "outputs": [
    {
     "name": "stdout",
     "output_type": "stream",
     "text": [
      "[1, 2, 3, 4, 5, 6]\n"
     ]
    }
   ],
   "source": [
    "#If we want to insert an element to a particular position use Insert\n",
    "\n",
    "list5 = [1,2,3,4,6]\n",
    "\n",
    "list5.insert(4,5)   # 5 is inserted at the position# 4\n",
    "print(list5)"
   ]
  },
  {
   "cell_type": "code",
   "execution_count": 16,
   "metadata": {},
   "outputs": [
    {
     "name": "stdout",
     "output_type": "stream",
     "text": [
      "['Hello', 'Python', 1, 3.7]\n"
     ]
    }
   ],
   "source": [
    "#To delete an element from a list\n",
    "\n",
    "list7 = [\"Hello\",\"Python\",1,3.7,True]\n",
    "\n",
    "list7.pop()   #Pop will remove last element from the list\n",
    "\n",
    "print(list7)"
   ]
  },
  {
   "cell_type": "code",
   "execution_count": 18,
   "metadata": {},
   "outputs": [
    {
     "name": "stdout",
     "output_type": "stream",
     "text": [
      "Hello\n",
      "Python\n",
      "1\n",
      "3.7\n"
     ]
    }
   ],
   "source": [
    "#Iteration in list \n",
    "\n",
    "for i in list7:     # This loop will iterate over python list and print every single element\n",
    "    print(i)"
   ]
  },
  {
   "cell_type": "code",
   "execution_count": 20,
   "metadata": {},
   "outputs": [
    {
     "name": "stdout",
     "output_type": "stream",
     "text": [
      "[1, 4, 9, 16, 25]\n"
     ]
    }
   ],
   "source": [
    "# List Comprehension is a way to transform one form of data to another in a single line\n",
    "\n",
    "nums = [1,2,3,4,5]   # Suppose we want to find the squares of every number in list\n",
    "\n",
    "squares = [x**2 for x in nums] # Using list comprehension, we can find the squares\n",
    "\n",
    "print(squares)\n"
   ]
  },
  {
   "cell_type": "markdown",
   "metadata": {},
   "source": [
    "That's it for today. We pretty much covered all the aspects of list-container in Python. We will be using list in our Machine\n",
    "learning Journey very frequently.Keep Practicing! Keep Learning !"
   ]
  },
  {
   "cell_type": "markdown",
   "metadata": {},
   "source": [
    "Tomorrow, we will talk about another important container Dictionary."
   ]
  },
  {
   "cell_type": "code",
   "execution_count": null,
   "metadata": {},
   "outputs": [],
   "source": []
  }
 ],
 "metadata": {
  "kernelspec": {
   "display_name": "Python 3",
   "language": "python",
   "name": "python3"
  },
  "language_info": {
   "codemirror_mode": {
    "name": "ipython",
    "version": 3
   },
   "file_extension": ".py",
   "mimetype": "text/x-python",
   "name": "python",
   "nbconvert_exporter": "python",
   "pygments_lexer": "ipython3",
   "version": "3.6.8"
  }
 },
 "nbformat": 4,
 "nbformat_minor": 2
}
