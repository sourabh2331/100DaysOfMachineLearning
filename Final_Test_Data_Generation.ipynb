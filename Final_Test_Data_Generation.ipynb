{
 "cells": [
  {
   "cell_type": "markdown",
   "metadata": {},
   "source": [
    "# Test Data  Generation for given MetaData"
   ]
  },
  {
   "cell_type": "markdown",
   "metadata": {},
   "source": [
    "# Objective :\n",
    "                    To Create Sample/Dummy Data with given metadata information.\n",
    "                    \n",
    "                    "
   ]
  },
  {
   "cell_type": "markdown",
   "metadata": {},
   "source": [
    "# Prerequisite:\n",
    "                        Metadata information in below format :\n",
    "        MetaData = [['Column_Name,'Dtype','Length','Null-Y/N',PK - Y/N,Partitions - Unique_Values]]\n",
    "        \n",
    "        Primary Key will get priority, PK column can not be Null/Duplicate.\n",
    "        \n",
    "        column_Name - Can be Any.\n",
    "        DataType - varchar/Date/Number/Double\n",
    "        PK - Y | N\n",
    "        Nulls - Y | N\n",
    "        Partition - How many Unique Values ?          # 0 if no partitions\n",
    "        \n",
    "        Num_of_Rows / Start_Date / End_Date / MaxNull Percentage --> Parameterized.\n",
    "        These values can be updated as per user requirements.\n",
    "        "
   ]
  },
  {
   "cell_type": "code",
   "execution_count": 149,
   "metadata": {},
   "outputs": [],
   "source": [
    "#Import Libraries\n",
    "import string\n",
    "import random\n",
    "import datetime\n",
    "import pandas as pd\n",
    "import matplotlib.pyplot as plt\n",
    "%matplotlib inline"
   ]
  },
  {
   "cell_type": "code",
   "execution_count": 150,
   "metadata": {},
   "outputs": [],
   "source": [
    "#MetaData Information\n",
    " Metadata = [['ID','varchar',10,'N','Y',0],['City','varchar',10,'Y','N',5],\\\n",
    "            ['Age','number',2,'N','N',0],['Date','Date',0,'Y','N',10],['Price','Double',5.4,'N','N',0]]"
   ]
  },
  {
   "cell_type": "code",
   "execution_count": 151,
   "metadata": {},
   "outputs": [],
   "source": [
    "#User Defined Variables - How many Rows of Data | Start_Date, End_Date | Max Null Percentage Needed\n",
    "NumofRows=100\n",
    "Year_Startdate = '01011991'\n",
    "Year_Enddate = '31122018'\n",
    "maxnullpercent = 5"
   ]
  },
  {
   "cell_type": "code",
   "execution_count": 152,
   "metadata": {},
   "outputs": [],
   "source": [
    "#Function to create random value for DataType - VarChar\n",
    "def VarcharGen(size=6,uniquevaluelist=[], chars=string.ascii_uppercase + string.digits):\n",
    "    if not uniquevaluelist:\n",
    "        return ''.join(random.choices(chars, k=size))\n",
    "    else:\n",
    "        return random.choices(uniquevaluelist)[0]"
   ]
  },
  {
   "cell_type": "code",
   "execution_count": 153,
   "metadata": {},
   "outputs": [],
   "source": [
    "#Function to Create a Random Number \n",
    "def NumberGen(size=5,uniquevaluelist=[]):\n",
    "    if not uniquevaluelist:\n",
    "        range_start = 10 ** (size - 1)\n",
    "        range_end = (10 ** size) - 1\n",
    "        return random.randint(range_start, range_end)\n",
    "    else:\n",
    "        return random.choices(uniquevaluelist)[0]"
   ]
  },
  {
   "cell_type": "code",
   "execution_count": 154,
   "metadata": {},
   "outputs": [],
   "source": [
    "#Function to Create a Random Date\n",
    "def DateGen(uniquevaluelist=[],start=datetime.datetime.strptime(Year_Startdate, '%d%m%Y').date(),end=datetime.datetime.strptime(Year_Enddate, '%d%m%Y').date()):\n",
    "    if not uniquevaluelist:\n",
    "        random_date = start + (end - start) * random.random()\n",
    "        return random_date\n",
    "    else:\n",
    "        return random.choices(uniquevaluelist)[0]"
   ]
  },
  {
   "cell_type": "code",
   "execution_count": 155,
   "metadata": {},
   "outputs": [],
   "source": [
    "#Function to Create a Double \n",
    "def DoubleGen(precision=3,scale=2,uniquevaluelist=[]):\n",
    "    if not uniquevaluelist:\n",
    "        range_start = 10 ** (precision - 1)\n",
    "        range_end = (10 ** precision) - 1\n",
    "        return round(random.uniform(range_start, range_end), scale)\n",
    "    else:\n",
    "        return random.choices(uniquevaluelist)[0]\n"
   ]
  },
  {
   "cell_type": "code",
   "execution_count": 156,
   "metadata": {},
   "outputs": [],
   "source": [
    "#Function to call Data Generation Functions based on DataType\n",
    "def Datatypefunc(datatypevalue,size=0,uniquevaluelist=[]):\n",
    "    if datatypevalue.upper() == 'DATE':\n",
    "        return DateGen(uniquevaluelist)\n",
    "    elif datatypevalue.upper() =='VARCHAR':\n",
    "        return VarcharGen(size,uniquevaluelist)\n",
    "    elif datatypevalue.upper() == 'NUMBER':\n",
    "        return NumberGen(size,uniquevaluelist)\n",
    "    else:\n",
    "        return DoubleGen(int(size),round((size-int(size))*10**(len(str((size)))-len(str(int(size)))-1)),uniquevaluelist)\n"
   ]
  },
  {
   "cell_type": "code",
   "execution_count": 157,
   "metadata": {},
   "outputs": [],
   "source": [
    "#Empty data list to capture final data\n",
    "data = []"
   ]
  },
  {
   "cell_type": "code",
   "execution_count": 158,
   "metadata": {},
   "outputs": [],
   "source": [
    "# Use Cases/ Rules -- Main Function\n",
    "def main():\n",
    "    \n",
    "    for i in range(len(Metadata)):\n",
    "        data.append([Metadata[i][0]])\n",
    "        coldata = []\n",
    "        if Metadata[i][3] == 'Y':\n",
    "            NumofNullRows = int(random.randint(1,maxnullpercent)*(NumofRows/100))\n",
    "            NumofDataRows = NumofRows - NumofNullRows\n",
    "        else:\n",
    "            NumofDataRows = NumofRows\n",
    "\n",
    "        if Metadata[i][5] != 0:\n",
    "            uniquevaluelist = []\n",
    "            for k in range(Metadata[i][5]):\n",
    "                uniquevaluelist.append(Datatypefunc(Metadata[i][1], Metadata[i][2]))\n",
    "\n",
    "            templist = list(set(uniquevaluelist))\n",
    "            trycount = 0\n",
    "            while len(uniquevaluelist) != len(templist):\n",
    "                trycount += 1\n",
    "                # print('Unique DataSet TryCount - ' + str(trycount))\n",
    "                newvalue = Datatypefunc(Metadata[i][1], Metadata[i][2])\n",
    "                if newvalue not in templist:\n",
    "                    templist.append(newvalue)\n",
    "            uniquevaluelist = templist\n",
    "\n",
    "            for j in range(NumofDataRows):\n",
    "                coldata.append(Datatypefunc(Metadata[i][1],Metadata[i][2],uniquevaluelist))\n",
    "\n",
    "        else:\n",
    "            for j in range(NumofDataRows):\n",
    "                coldata.append(Datatypefunc(Metadata[i][1],Metadata[i][2]))\n",
    "\n",
    "        if Metadata[i][3] == 'Y':\n",
    "            for j in range(NumofNullRows):\n",
    "                coldata.insert(random.randint(1,NumofDataRows),None)\n",
    "\n",
    "        if Metadata[i][4] == 'Y':\n",
    "            uniquecoldata = list(set(coldata))\n",
    "            trycount=0\n",
    "            while len(coldata) != len(uniquecoldata):\n",
    "                trycount +=1\n",
    "                # print('Unique DataSet TryCount - '+ str(trycount))\n",
    "                newvalue = Datatypefunc(Metadata[i][1],Metadata[i][2])\n",
    "                if newvalue not in uniquecoldata:\n",
    "                    uniquecoldata.append(newvalue)\n",
    "            coldata = uniquecoldata\n",
    "\n",
    "\n",
    "\n",
    "        data[i].append(coldata)\n",
    "\n",
    "#print(data)"
   ]
  },
  {
   "cell_type": "code",
   "execution_count": 159,
   "metadata": {},
   "outputs": [],
   "source": [
    "#Main Programme Execution\n",
    "if __name__ == '__main__':\n",
    "    main()"
   ]
  },
  {
   "cell_type": "code",
   "execution_count": 160,
   "metadata": {},
   "outputs": [],
   "source": [
    "#Converting Data to DataFrames \n",
    "Dict = dict(data)\n",
    "\n",
    "DF = pd.DataFrame(Dict)"
   ]
  },
  {
   "cell_type": "code",
   "execution_count": 161,
   "metadata": {},
   "outputs": [
    {
     "data": {
      "text/html": [
       "<div>\n",
       "<style scoped>\n",
       "    .dataframe tbody tr th:only-of-type {\n",
       "        vertical-align: middle;\n",
       "    }\n",
       "\n",
       "    .dataframe tbody tr th {\n",
       "        vertical-align: top;\n",
       "    }\n",
       "\n",
       "    .dataframe thead th {\n",
       "        text-align: right;\n",
       "    }\n",
       "</style>\n",
       "<table border=\"1\" class=\"dataframe\">\n",
       "  <thead>\n",
       "    <tr style=\"text-align: right;\">\n",
       "      <th></th>\n",
       "      <th>ID</th>\n",
       "      <th>City</th>\n",
       "      <th>Age</th>\n",
       "      <th>Date</th>\n",
       "      <th>Price</th>\n",
       "    </tr>\n",
       "  </thead>\n",
       "  <tbody>\n",
       "    <tr>\n",
       "      <th>0</th>\n",
       "      <td>77Z48DAT0F</td>\n",
       "      <td>A9XTPF317M</td>\n",
       "      <td>92</td>\n",
       "      <td>1999-01-09</td>\n",
       "      <td>80679.9871</td>\n",
       "    </tr>\n",
       "    <tr>\n",
       "      <th>1</th>\n",
       "      <td>EF5AN0PYHP</td>\n",
       "      <td>6UAAHYDAO3</td>\n",
       "      <td>35</td>\n",
       "      <td>2016-02-29</td>\n",
       "      <td>92274.1353</td>\n",
       "    </tr>\n",
       "    <tr>\n",
       "      <th>2</th>\n",
       "      <td>NTZ3NWIQ1N</td>\n",
       "      <td>6UAAHYDAO3</td>\n",
       "      <td>65</td>\n",
       "      <td>2004-06-18</td>\n",
       "      <td>46179.4977</td>\n",
       "    </tr>\n",
       "    <tr>\n",
       "      <th>3</th>\n",
       "      <td>AGNFG7QQ2J</td>\n",
       "      <td>U3WZ99SBGU</td>\n",
       "      <td>26</td>\n",
       "      <td>2005-08-19</td>\n",
       "      <td>42090.8498</td>\n",
       "    </tr>\n",
       "    <tr>\n",
       "      <th>4</th>\n",
       "      <td>AS0LWFF4IR</td>\n",
       "      <td>U3WZ99SBGU</td>\n",
       "      <td>17</td>\n",
       "      <td>None</td>\n",
       "      <td>90978.0519</td>\n",
       "    </tr>\n",
       "  </tbody>\n",
       "</table>\n",
       "</div>"
      ],
      "text/plain": [
       "           ID        City  Age        Date       Price\n",
       "0  77Z48DAT0F  A9XTPF317M   92  1999-01-09  80679.9871\n",
       "1  EF5AN0PYHP  6UAAHYDAO3   35  2016-02-29  92274.1353\n",
       "2  NTZ3NWIQ1N  6UAAHYDAO3   65  2004-06-18  46179.4977\n",
       "3  AGNFG7QQ2J  U3WZ99SBGU   26  2005-08-19  42090.8498\n",
       "4  AS0LWFF4IR  U3WZ99SBGU   17        None  90978.0519"
      ]
     },
     "execution_count": 161,
     "metadata": {},
     "output_type": "execute_result"
    }
   ],
   "source": [
    "#Sample DataFrame Data\n",
    "DF.head(5)"
   ]
  },
  {
   "cell_type": "code",
   "execution_count": 163,
   "metadata": {},
   "outputs": [
    {
     "data": {
      "text/plain": [
       "Text(0.5, 1.0, 'Cities vs Count')"
      ]
     },
     "execution_count": 163,
     "metadata": {},
     "output_type": "execute_result"
    },
    {
     "data": {
      "image/png": "[encoded data removed]",
      "text/plain": [
       "<Figure size 864x576 with 1 Axes>"
      ]
     },
     "metadata": {
      "needs_background": "light"
     },
     "output_type": "display_data"
    }
   ],
   "source": [
    "#Partition Check - Different Value Counts\n",
    "DF.City.value_counts().plot(kind = 'bar',cmap = 'rainbow',figsize = [12,8], rot = 0)\n",
    "\n",
    "plt.xlabel('Unique_Cities',fontsize = 15)\n",
    "plt.ylabel('Cities_Counts', fontsize = 15)\n",
    "plt.title('Cities vs Count',fontsize = 25)"
   ]
  },
  {
   "cell_type": "code",
   "execution_count": 164,
   "metadata": {},
   "outputs": [
    {
     "data": {
      "text/plain": [
       "ID       0\n",
       "City     1\n",
       "Age      0\n",
       "Date     4\n",
       "Price    0\n",
       "dtype: int64"
      ]
     },
     "execution_count": 164,
     "metadata": {},
     "output_type": "execute_result"
    }
   ],
   "source": [
    "#Null Values added as per metadata in City and Date\n",
    "DF.isnull().sum() "
   ]
  },
  {
   "cell_type": "code",
   "execution_count": 165,
   "metadata": {},
   "outputs": [],
   "source": [
    "DF.to_csv('Test_Generation.csv',header=True,index=False)"
   ]
  },
  {
   "cell_type": "code",
   "execution_count": 167,
   "metadata": {},
   "outputs": [
    {
     "name": "stdout",
     "output_type": "stream",
     "text": [
      "Azure_Replica.ipynb\n",
      "Final_Test_Data_Generation.ipynb\n",
      "Loan_Test.csv\n",
      "Loan_Train.csv\n",
      "Test_Generation.csv\n",
      "Untitled.ipynb\n"
     ]
    }
   ],
   "source": [
    "#List Files/Directories\n",
    "!ls"
   ]
  },
  {
   "cell_type": "code",
   "execution_count": 91,
   "metadata": {},
   "outputs": [
    {
     "name": "stdout",
     "output_type": "stream",
     "text": [
      "ID,City,Age,Date,Price\n",
      "VA3MRZ6GIK,8CW51AOX85,72,2018-03-29,18303.7798\n",
      "99O7SFTAIY,2PWVTO5X9M,16,2018-03-29,87487.2486\n",
      "XA8L770BDM,D8CQUBOM1P,71,2014-07-04,75745.1123\n",
      "UZQR774FWA,D8CQUBOM1P,29,2018-03-29,55822.4498\n"
     ]
    }
   ],
   "source": [
    "#Sample Data from .csv file\n",
    "!head -5 Test_Generation.csv"
   ]
  },
  {
   "cell_type": "code",
   "execution_count": null,
   "metadata": {},
   "outputs": [],
   "source": []
  }
 ],
 "metadata": {
  "kernelspec": {
   "display_name": "Python 3",
   "language": "python",
   "name": "python3"
  },
  "language_info": {
   "codemirror_mode": {
    "name": "ipython",
    "version": 3
   },
   "file_extension": ".py",
   "mimetype": "text/x-python",
   "name": "python",
   "nbconvert_exporter": "python",
   "pygments_lexer": "ipython3",
   "version": "3.6.8"
  }
 },
 "nbformat": 4,
 "nbformat_minor": 2
}
