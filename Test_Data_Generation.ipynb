{
 "cells": [
  {
   "cell_type": "code",
   "execution_count": 21,
   "metadata": {},
   "outputs": [
    {
     "name": "stdout",
     "output_type": "stream",
     "text": [
      "[[1, 'GV8N1C60MU', 53, datetime.date(1997, 8, 14), 94966.0, '99IP3HRMU3', 3843093248], [2, '4DRNZQGH5B', 98, datetime.date(2012, 9, 2), 64705.0, 'OH0GWI8031', 1002242528], [3, 'O6U7CUUCCF', 85, datetime.date(1999, 1, 19), 29812.0, 'LBWPKCQWOZ', 5697155228], [4, '5YPK8E9G4X', 19, datetime.date(2006, 1, 23), 45495.0, 'UT58EFNZWV', 7878666535], [5, 'TX51GSBNBG', 70, datetime.date(1998, 7, 19), 74927.0, 'BON5NEAI6S', 8508543558], [6, '80M6CR3D5A', 62, datetime.date(2017, 5, 6), 41544.0, 'QUT8YUTEGG', 1201228718], [7, 'TE7XWN2CJK', 87, datetime.date(1998, 11, 21), 10281.0, 'K8IKBK12YB', 1362885932], [8, 'HODO9IR6G4', 86, datetime.date(2008, 7, 30), 73254.0, '7732TVWVP7', 2080152134], [9, 'IYB4EE29XY', 20, datetime.date(2004, 10, 26), 38270.0, 'NARN91L4VR', 3617147709], [10, 'CZBGHK8SMS', 62, datetime.date(2012, 1, 23), 57493.0, 'FLNSSR3HXF', 6744957223]]\n"
     ]
    }
   ],
   "source": [
    "#Connect to Hive to extract MetaData \n",
    "\n",
    "# Convert MetaData file to List of List\n",
    "\n",
    "\n",
    "import string\n",
    "import random\n",
    "import datetime\n",
    "import pandas as pd\n",
    "\n",
    "\n",
    "def VarcharGen(size=6, chars=string.ascii_uppercase + string.digits):\n",
    "    return ''.join(random.choices(chars, k=size))\n",
    "\n",
    "def NumberGen(size=5):\n",
    "    range_start = 10**(size-1)\n",
    "    range_end = (10**size)-1\n",
    "    return random.randint(range_start, range_end)\n",
    "\n",
    "def DateGen(start=datetime.datetime.strptime('01011991', '%d%m%Y').date(),end=datetime.datetime.strptime('31122018', '%d%m%Y').date()):\n",
    "    random_date = start + (end - start) * random.random()\n",
    "    return random_date\n",
    "\n",
    "def DoubleGen(precision=3,scale=2):\n",
    "    range_start = 10**(precision-1)\n",
    "    range_end = (10**precision)-1\n",
    "    return round(random.uniform(range_start, range_end),scale)\n",
    "\n",
    "def Datatypefunc(datatypevalue,size=0):\n",
    "    if datatypevalue.upper() == 'DATE':\n",
    "        return DateGen()\n",
    "    elif datatypevalue.upper() =='VARCHAR':\n",
    "        return VarcharGen(size)\n",
    "    elif datatypevalue.upper() == 'NUMBER':\n",
    "        return NumberGen(size)\n",
    "    else:\n",
    "        return DoubleGen(int(size),round((size-int(size))*10**(len(str((size)))-len(str(int(size)))-1)))\n",
    "\n",
    "\n",
    "Metadata = [['Name','varchar',10],['Age','number',2],['Date','Date',0],['Salary','Double',5],['Emp_ID','varchar',10], ['Loan_Number','number',10]]\n",
    "NumofRows=10\n",
    "\n",
    "data=[]\n",
    "\n",
    "for i in range(NumofRows):\n",
    "    rowdata=[]\n",
    "    rowdata.append(i+1)\n",
    "    for j in range(len(Metadata)):\n",
    "        rowdata.append(Datatypefunc(Metadata[j][1],Metadata[j][2]))\n",
    "    data.append(rowdata)\n",
    "\n",
    "print(data)\n",
    "\n",
    "FinalDF = pd.DataFrame(data,columns = ['Row_Number','Name','Age','Date','Salary','Emp_ID','Loan_No'])\n",
    "\n",
    "FinalDF.to_csv('test_data.csv',index = False)\n",
    "\n",
    "# Nullable and Key Feature\n",
    "\n",
    "#Save the Data to DataFrame\n",
    "\n",
    "# Save DataFrame in CSV/Json Format"
   ]
  },
  {
   "cell_type": "code",
   "execution_count": 22,
   "metadata": {},
   "outputs": [
    {
     "data": {
      "text/html": [
       "<div>\n",
       "<style scoped>\n",
       "    .dataframe tbody tr th:only-of-type {\n",
       "        vertical-align: middle;\n",
       "    }\n",
       "\n",
       "    .dataframe tbody tr th {\n",
       "        vertical-align: top;\n",
       "    }\n",
       "\n",
       "    .dataframe thead th {\n",
       "        text-align: right;\n",
       "    }\n",
       "</style>\n",
       "<table border=\"1\" class=\"dataframe\">\n",
       "  <thead>\n",
       "    <tr style=\"text-align: right;\">\n",
       "      <th></th>\n",
       "      <th>Row_Number</th>\n",
       "      <th>Name</th>\n",
       "      <th>Age</th>\n",
       "      <th>Date</th>\n",
       "      <th>Salary</th>\n",
       "      <th>Emp_ID</th>\n",
       "      <th>Loan_No</th>\n",
       "    </tr>\n",
       "  </thead>\n",
       "  <tbody>\n",
       "    <tr>\n",
       "      <th>0</th>\n",
       "      <td>1</td>\n",
       "      <td>GV8N1C60MU</td>\n",
       "      <td>53</td>\n",
       "      <td>1997-08-14</td>\n",
       "      <td>94966.0</td>\n",
       "      <td>99IP3HRMU3</td>\n",
       "      <td>3843093248</td>\n",
       "    </tr>\n",
       "    <tr>\n",
       "      <th>1</th>\n",
       "      <td>2</td>\n",
       "      <td>4DRNZQGH5B</td>\n",
       "      <td>98</td>\n",
       "      <td>2012-09-02</td>\n",
       "      <td>64705.0</td>\n",
       "      <td>OH0GWI8031</td>\n",
       "      <td>1002242528</td>\n",
       "    </tr>\n",
       "  </tbody>\n",
       "</table>\n",
       "</div>"
      ],
      "text/plain": [
       "   Row_Number        Name  Age        Date   Salary      Emp_ID     Loan_No\n",
       "0           1  GV8N1C60MU   53  1997-08-14  94966.0  99IP3HRMU3  3843093248\n",
       "1           2  4DRNZQGH5B   98  2012-09-02  64705.0  OH0GWI8031  1002242528"
      ]
     },
     "execution_count": 22,
     "metadata": {},
     "output_type": "execute_result"
    }
   ],
   "source": [
    "FinalDF.head(2)"
   ]
  },
  {
   "cell_type": "code",
   "execution_count": 14,
   "metadata": {},
   "outputs": [
    {
     "name": "stdout",
     "output_type": "stream",
     "text": [
      "ExistingHotels_CustomerVisitsdata-1554810038262.csv\n",
      "Existing_Hotel_Visualizations.ipynb\n",
      "ML_PHD_Visualizations.ipynb\n",
      "NewHotels_CutstomerVisitsdata-1554810098964.csv\n",
      "Test_Data_Generation.ipynb\n",
      "Train-1554810061973.csv\n",
      "Train_EDA_Visualizations.ipynb\n",
      "test_data.csv\n"
     ]
    }
   ],
   "source": [
    "!ls"
   ]
  },
  {
   "cell_type": "code",
   "execution_count": 19,
   "metadata": {},
   "outputs": [
    {
     "name": "stdout",
     "output_type": "stream",
     "text": [
      "Row_Number,Name,Age,Date,Salary,Emp_ID,Loan_No\n",
      "1,I5YL31JXAL,83,1992-11-11,97350.094,D9XQWB9MWI,5378122108\n",
      "2,JQ11QU72S3,36,2012-01-24,39468.6399,07ZEOHVF1M,7803698507\n",
      "3,361FUIJX1C,63,2014-05-17,18757.6214,83TDCMGTVG,1224345493\n",
      "4,4DMH7PNT3L,47,1997-09-19,75855.3906,MFRT19QT2O,4825514222\n",
      "5,ZX0EJJW9W4,40,2005-10-27,82698.1141,7NK2J2H60O,7850535972\n",
      "6,2LMNQWGSOG,17,2013-10-01,65745.4285,UBHUM05173,6949140952\n",
      "7,SLMMUY62M8,99,1997-08-09,18511.3961,XNG1C9ASLR,5511419787\n",
      "8,WZM4VOQ8UJ,67,2008-10-26,39009.8381,A46PQNC83A,9298174847\n",
      "9,SFJ4FQTJ0M,56,2017-06-30,26052.5545,NS50DJC2GY,3138288868\n",
      "10,TB1UZYE49C,65,1992-01-04,84229.6015,54CD6DPLTN,1396352595\n"
     ]
    }
   ],
   "source": [
    "!head -11 test_data.csv"
   ]
  },
  {
   "cell_type": "code",
   "execution_count": null,
   "metadata": {},
   "outputs": [],
   "source": []
  }
 ],
 "metadata": {
  "kernelspec": {
   "display_name": "Python 3",
   "language": "python",
   "name": "python3"
  },
  "language_info": {
   "codemirror_mode": {
    "name": "ipython",
    "version": 3
   },
   "file_extension": ".py",
   "mimetype": "text/x-python",
   "name": "python",
   "nbconvert_exporter": "python",
   "pygments_lexer": "ipython3",
   "version": "3.6.8"
  }
 },
 "nbformat": 4,
 "nbformat_minor": 2
}
