{
 "cells": [
  {
   "cell_type": "markdown",
   "metadata": {},
   "source": [
    "# Basics of  Python "
   ]
  },
  {
   "cell_type": "markdown",
   "metadata": {},
   "source": [
    "Yesterday, We discussed about Jupyter Notebook framework for Machine Learning.Today, We will discuss and do some hands on Python.So, Why Python ? Python is a goto language in every field.Machine Learning, BigData Processing, Application Development.let's start with some basics without wasting any more time."
   ]
  },
  {
   "cell_type": "markdown",
   "metadata": {},
   "source": [
    "# Building Blocks in Python"
   ]
  },
  {
   "cell_type": "markdown",
   "metadata": {},
   "source": [
    "Data Types :\n",
    "    Int, Float, String, Bool\n",
    "\n",
    "Containers:\n",
    "    List,\n",
    "    Dictionary,\n",
    "    Tuple,\n",
    "    Sets,"
   ]
  },
  {
   "cell_type": "code",
   "execution_count": 7,
   "metadata": {},
   "outputs": [
    {
     "name": "stdout",
     "output_type": "stream",
     "text": [
      "10\n",
      "<class 'int'> \n",
      "\n",
      "Sobhi\n",
      "<class 'str'> \n",
      "\n",
      "3.14\n",
      "<class 'float'> \n",
      "\n",
      "True\n",
      "<class 'bool'>\n"
     ]
    }
   ],
   "source": [
    "#Creating a variable \n",
    "a = 10 # Int Type\n",
    "print(a)\n",
    "print(type(a),\"\\n\")\n",
    "\n",
    "name = \"Sobhi\" #String Type\n",
    "print(name)\n",
    "print(type(name),\"\\n\")\n",
    "\n",
    "pi = 3.14 # Float Type\n",
    "print(pi)\n",
    "print(type(pi),\"\\n\")\n",
    "\n",
    "\n",
    "love = True\n",
    "print(love)\n",
    "print(type(love))"
   ]
  },
  {
   "cell_type": "code",
   "execution_count": 19,
   "metadata": {},
   "outputs": [
    {
     "name": "stdout",
     "output_type": "stream",
     "text": [
      "Sum:  30 \n",
      "\n",
      "Subtraction:  10 \n",
      "\n",
      "Multiplication:  200 \n",
      "\n",
      "Division:  2.0 \n",
      "\n",
      "Remainder:  0 \n",
      "\n",
      "Raise Power:  400 \n",
      "\n"
     ]
    }
   ],
   "source": [
    "# Math Operations \n",
    "\n",
    "a = 20   # Define variable a\n",
    "b = 10   # Define variable b\n",
    "Sum = a + b   # Addition\n",
    "print(\"Sum: \",Sum,\"\\n\")\n",
    "Sub = a - b  # Subtraction\n",
    "print(\"Subtraction: \",Sub,\"\\n\")\n",
    "Mul = a * b  # Multiplication\n",
    "print(\"Multiplication: \",Mul,\"\\n\")\n",
    "Div = a / b # Division\n",
    "print(\"Division: \",Div,\"\\n\")\n",
    "Rem = a % b # Remainder\n",
    "print(\"Remainder: \", Rem,\"\\n\")\n",
    "Pow = a ** 2 #Power\n",
    "print(\"Raise Power: \",Pow,\"\\n\")"
   ]
  },
  {
   "cell_type": "code",
   "execution_count": 9,
   "metadata": {},
   "outputs": [
    {
     "data": {
      "text/plain": [
       "['This', 'is', 'Sobhi']"
      ]
     },
     "execution_count": 9,
     "metadata": {},
     "output_type": "execute_result"
    }
   ],
   "source": [
    "#Some functions to work with Strings\n",
    "\n",
    "name = \"This-is-Sobhi\"   # Define a string\n",
    "name.split(\"-\")          # Function to split the string/text "
   ]
  },
  {
   "cell_type": "code",
   "execution_count": 10,
   "metadata": {},
   "outputs": [
    {
     "data": {
      "text/plain": [
       "['S', 'chin']"
      ]
     },
     "execution_count": 10,
     "metadata": {},
     "output_type": "execute_result"
    }
   ],
   "source": [
    "name = \"Sachin\"   # Define String\n",
    "name.split('a')   # Split String based on 'a'"
   ]
  },
  {
   "cell_type": "code",
   "execution_count": 11,
   "metadata": {},
   "outputs": [
    {
     "data": {
      "text/plain": [
       "1"
      ]
     },
     "execution_count": 11,
     "metadata": {},
     "output_type": "execute_result"
    }
   ],
   "source": [
    "name.count('a')   # Count Function to get number of 'a' in a given string"
   ]
  },
  {
   "cell_type": "code",
   "execution_count": 14,
   "metadata": {},
   "outputs": [
    {
     "name": "stdout",
     "output_type": "stream",
     "text": [
      "[(0, 'V'), (1, 'i'), (2, 'r'), (3, 'a'), (4, 't'), (5, ' '), (6, 'K'), (7, 'o'), (8, 'h'), (9, 'l'), (10, 'i')]\n"
     ]
    }
   ],
   "source": [
    "name = \"Virat Kohli\"  # Define a String\n",
    "g = enumerate(name)  # Enumerate is used to capture value and index/position together\n",
    "print(list(g))        "
   ]
  },
  {
   "cell_type": "code",
   "execution_count": 16,
   "metadata": {},
   "outputs": [
    {
     "name": "stdout",
     "output_type": "stream",
     "text": [
      "HelloSobhi\n",
      "5\n",
      "23 2 3\n",
      "2 \n",
      " 3\n"
     ]
    }
   ],
   "source": [
    "#Polymorphism  - Means same operand multiple functions\n",
    "\n",
    "print('Hello'+'Sobhi')   # + as String Concatenation\n",
    "print(2+3)    # As Addition\n",
    "print('2'+'3','2'+' 3') # As String Addition\n",
    "print(2,'\\n',3) #\\n is a new line character"
   ]
  },
  {
   "cell_type": "code",
   "execution_count": 20,
   "metadata": {},
   "outputs": [
    {
     "name": "stdout",
     "output_type": "stream",
     "text": [
      "True\n",
      "False\n",
      "True\n",
      "False\n",
      "False\n"
     ]
    }
   ],
   "source": [
    "#Logical Operators\n",
    "\n",
    "t = True\n",
    "f = False\n",
    "\n",
    "print(t|f)   # OR Operator\n",
    "print(t&f)   # And Operator\n",
    "print(t or f) # Or Operator\n",
    "print(t and f) # And Operator\n",
    "print(not t)   # Not Operator\n",
    "\n",
    "\n",
    "# For more info about boolean algebra please \"https://www.electronics-tutorials.ws/boolean/bool_6.html\"\n"
   ]
  },
  {
   "cell_type": "code",
   "execution_count": 21,
   "metadata": {},
   "outputs": [
    {
     "name": "stdout",
     "output_type": "stream",
     "text": [
      "True\n",
      "False\n",
      "True\n"
     ]
    }
   ],
   "source": [
    "#String Comparison\n",
    "\n",
    "print(\"so\" in \"sobhi\")    # It will return True if given text(\"so\") is present\n",
    "print(\"l\" in \"sobhi\")    # \"l\" is not present in \"sobhi\"\n",
    "print(\"l\" not in \"sobhi\")"
   ]
  },
  {
   "cell_type": "code",
   "execution_count": 22,
   "metadata": {},
   "outputs": [
    {
     "name": "stdout",
     "output_type": "stream",
     "text": [
      "False\n",
      "True\n",
      "False\n",
      "False\n",
      "True\n"
     ]
    }
   ],
   "source": [
    "#Relational Operators | Return Type will be Boolean\n",
    "\n",
    "a = 10\n",
    "b = 20\n",
    "\n",
    "print(a == b)   # Equal to Operator\n",
    "print(a < b)    # Less than Operator\n",
    "print(a > b)    # Greater than Operator\n",
    "print(a >= b)   # Greater than equal to Operator\n",
    "print(a != b)   # Not Equal to\n"
   ]
  },
  {
   "cell_type": "markdown",
   "metadata": {},
   "source": [
    "# These are the basics in Python. In Upcoming article, We will talk about containers(List, Dict, Sets, Tuples) in detail.Stay Tuned!"
   ]
  },
  {
   "cell_type": "code",
   "execution_count": null,
   "metadata": {},
   "outputs": [],
   "source": []
  }
 ],
 "metadata": {
  "kernelspec": {
   "display_name": "Python 3",
   "language": "python",
   "name": "python3"
  },
  "language_info": {
   "codemirror_mode": {
    "name": "ipython",
    "version": 3
   },
   "file_extension": ".py",
   "mimetype": "text/x-python",
   "name": "python",
   "nbconvert_exporter": "python",
   "pygments_lexer": "ipython3",
   "version": "3.6.8"
  }
 },
 "nbformat": 4,
 "nbformat_minor": 2
}
